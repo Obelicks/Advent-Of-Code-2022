{
 "cells": [
  {
   "cell_type": "code",
   "execution_count": null,
   "metadata": {},
   "outputs": [],
   "source": [
    "data =[]\n",
    "with open(\"data/8.txt\") as file:\n",
    "      for line in file: \n",
    "            row = [int(digit) for digit in line.strip()]\n",
    "            #print(row)\n",
    "            data.append(row)"
   ]
  },
  {
   "cell_type": "code",
   "execution_count": null,
   "metadata": {},
   "outputs": [],
   "source": [
    "for i,line in enumerate(data):\n",
    "    print(\"line\",i, \"contains:\", line)"
   ]
  },
  {
   "cell_type": "markdown",
   "metadata": {},
   "source": [
    "The privious solution was no good since it gave either dublicates or skipped relavant tress"
   ]
  },
  {
   "cell_type": "code",
   "execution_count": null,
   "metadata": {},
   "outputs": [],
   "source": [
    "ROWS = len(data)\n",
    "COLOUMNS = len(data[0])\n",
    "\n",
    "edges = (ROWS*2) + ((COLOUMNS-2)*2)\n",
    "total = edges"
   ]
  },
  {
   "cell_type": "code",
   "execution_count": null,
   "metadata": {},
   "outputs": [],
   "source": [
    "for row in range(1, ROWS-1):\n",
    "    for col in range(1,COLOUMNS-1):\n",
    "        tree = data[row][col]\n",
    "        \n",
    "        left = [data[row][col-i] for i in range(1,col+1)]\n",
    "        right = [data[row][col+i] for i in range(1,COLOUMNS-col)]\n",
    "        up = [data[row-i][col] for i in range(1,row+1)]\n",
    "        down = [data[row+i][col] for i in range(1,ROWS-row)]\n",
    "        if max(left)<tree or max(right)<tree or max(up)<tree or max(down)<tree:\n",
    "            total += 1\n",
    "\n",
    "print(total)"
   ]
  }
 ],
 "metadata": {
  "kernelspec": {
   "display_name": "Python 3",
   "language": "python",
   "name": "python3"
  },
  "language_info": {
   "codemirror_mode": {
    "name": "ipython",
    "version": 3
   },
   "file_extension": ".py",
   "mimetype": "text/x-python",
   "name": "python",
   "nbconvert_exporter": "python",
   "pygments_lexer": "ipython3",
   "version": "3.9.2"
  },
  "orig_nbformat": 4
 },
 "nbformat": 4,
 "nbformat_minor": 2
}

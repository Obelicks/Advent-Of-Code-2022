{
 "cells": [
  {
   "cell_type": "code",
   "execution_count": null,
   "metadata": {},
   "outputs": [],
   "source": [
    "#My initial idea was to evaluate every tree individually, \n",
    "#but I have instead opted to look from left to right through the output\n",
    "#and store the current highest tree from that point of view and when a tree that is higher \n",
    "#is found i increment and denode the counted tree with -1 so it doesnt gets counted twice.\n",
    "#\n",
    "#Using numpy matixes i can rotate the data and do this 4 times to find every instance  \n",
    "import numpy as np"
   ]
  },
  {
   "cell_type": "code",
   "execution_count": null,
   "metadata": {},
   "outputs": [],
   "source": [
    "with open(\"data/8.txt\") as file:\n",
    "      data = file.read()\n",
    "\n",
    "nested_list = [[int(digit) for digit in number] for number in data.split()]\n",
    "     \n",
    "print(nested_list)\n",
    "numpy_matrix = np.matrix(nested_list)\n",
    "print(numpy_matrix)"
   ]
  },
  {
   "cell_type": "code",
   "execution_count": null,
   "metadata": {},
   "outputs": [],
   "source": [
    "m_x = numpy_matrix[0]\n",
    "m_y = numpy_matrix[1]\n",
    "for i in numpy_matrix:\n",
    "    smallest = -1\n",
    "    for j in range(int(m_y)):\n",
    "        if smallest < numpy_matrix[i,j]:\n",
    "            smallest = numpy_matrix[i,j]\n",
    "            print(smallest)\n",
    "            numpy_matrix[i,j] = -1\n",
    "            print(i,j)\n",
    "print(numpy_matrix)"
   ]
  },
  {
   "cell_type": "code",
   "execution_count": null,
   "metadata": {},
   "outputs": [],
   "source": [
    "for i in numpy_matrix:\n",
    "    for j in i:\n",
    "        print(j)"
   ]
  },
  {
   "cell_type": "code",
   "execution_count": null,
   "metadata": {},
   "outputs": [],
   "source": [
    "3 < numpy_matrix[0,3]"
   ]
  },
  {
   "cell_type": "code",
   "execution_count": null,
   "metadata": {},
   "outputs": [],
   "source": []
  }
 ],
 "metadata": {
  "kernelspec": {
   "display_name": "Python 3",
   "language": "python",
   "name": "python3"
  },
  "language_info": {
   "codemirror_mode": {
    "name": "ipython",
    "version": 3
   },
   "file_extension": ".py",
   "mimetype": "text/x-python",
   "name": "python",
   "nbconvert_exporter": "python",
   "pygments_lexer": "ipython3",
   "version": "3.11.3"
  },
  "orig_nbformat": 4
 },
 "nbformat": 4,
 "nbformat_minor": 2
}

{
 "cells": [
  {
   "cell_type": "code",
   "execution_count": null,
   "metadata": {},
   "outputs": [],
   "source": [
    "from collections import Counter\n",
    "import math"
   ]
  },
  {
   "cell_type": "code",
   "execution_count": null,
   "metadata": {},
   "outputs": [],
   "source": [
    "with open(\"data/9.txt\") as file:\n",
    "      data = [row.strip().split() for row in file]\n",
    "print(data)"
   ]
  },
  {
   "cell_type": "code",
   "execution_count": null,
   "metadata": {},
   "outputs": [],
   "source": [
    "#TODO   Simulate the rope and its tail. \n",
    "#       Append all the tails positions "
   ]
  },
  {
   "cell_type": "code",
   "execution_count": null,
   "metadata": {},
   "outputs": [],
   "source": [
    "list_of_knots = [[0,0],[0,0]]\n",
    "Hasbeen = [(0,0)]\n"
   ]
  },
  {
   "cell_type": "code",
   "execution_count": null,
   "metadata": {},
   "outputs": [],
   "source": [
    "def log_pos(item):\n",
    "    if (item[0],item[1]) not in Hasbeen:\n",
    "        Hasbeen.append((item[0],item[1]))"
   ]
  },
  {
   "cell_type": "code",
   "execution_count": null,
   "metadata": {},
   "outputs": [],
   "source": [
    "def update_knot(listA, listB):\n",
    "    #There definitly is a smarter way to do this. \n",
    "    if math.sqrt((listA[0] - listB[0])**2 + (listA[1] - listB[1])**2) == 2.0:\n",
    "        #Vertical\n",
    "        if listA[0] == listB[0]:\n",
    "            if listA[1] > listB[1]:\n",
    "                listB[1] += 1\n",
    "            else:\n",
    "                listB[1] -=1\n",
    "        #Horizontal\n",
    "        if listA[1] == listB[1]:\n",
    "            if listA[0] > listB[0]:\n",
    "                listB[0] += 1\n",
    "            else:\n",
    "                listB[0] -=1\n",
    "    elif math.sqrt((listA[0] - listB[0])**2+ (listA[1] - listB[1])**2) > 2.0: \n",
    "        #Diagonal Cases\n",
    "        if (listA[0] > listB[0]):\n",
    "            listB[0] += 1\n",
    "            if (listA[1] > listB[1]):\n",
    "                listB[1] += 1\n",
    "            else:            \n",
    "              listB[1] -= 1  \n",
    "        else: \n",
    "            listB[0] -= 1\n",
    "            if (listA[1] > listB[1]):\n",
    "                listB[1] += 1\n",
    "            else:            \n",
    "                listB[1] -= 1  \n",
    "        \n",
    "    #print(Tail)\n",
    "    log_pos(list_of_knots[-1])\n",
    "    return "
   ]
  },
  {
   "cell_type": "code",
   "execution_count": null,
   "metadata": {},
   "outputs": [],
   "source": [
    "def move_head(command, unit):\n",
    "    Head = list_of_knots[0]\n",
    "    Tail = list_of_knots[-1]\n",
    "    if command == \"U\":\n",
    "        for i in range(unit):\n",
    "            Head[1] += 1\n",
    "            for i in range (1,len(list_of_knots)):\n",
    "                update_knot(list_of_knots[i-1],list_of_knots[i])\n",
    "    elif command == \"L\":\n",
    "        for i in range(unit):\n",
    "            Head[0] -= 1\n",
    "            for i in range (1,len(list_of_knots)):\n",
    "                update_knot(list_of_knots[i-1],list_of_knots[i])\n",
    "    elif command == \"R\":\n",
    "        for i in range(unit):\n",
    "            Head[0] += 1\n",
    "            for i in range (1,len(list_of_knots)):\n",
    "                update_knot(list_of_knots[i-1],list_of_knots[i])\n",
    "    elif command == \"D\":\n",
    "        for i in range(unit):\n",
    "            Head[1] -= 1\n",
    "            for i in range (1,len(list_of_knots)):\n",
    "                update_knot(list_of_knots[i-1],list_of_knots[i])"
   ]
  },
  {
   "cell_type": "code",
   "execution_count": null,
   "metadata": {},
   "outputs": [],
   "source": [
    "def debugger():\n",
    "    for i,val in enumerate(list_of_knots):\n",
    "        print(i, \"is at: \", val)\n",
    "    print(\"HasBeen:\", Hasbeen)"
   ]
  },
  {
   "cell_type": "code",
   "execution_count": null,
   "metadata": {},
   "outputs": [],
   "source": [
    "for line in data:\n",
    "    move_head(line[0],int(line[1]))\n",
    "print(\"Part 1: \", len(Counter(Hasbeen).keys()))"
   ]
  },
  {
   "cell_type": "code",
   "execution_count": null,
   "metadata": {},
   "outputs": [],
   "source": [
    "list_of_knots = []\n",
    "for i in range(10):\n",
    "    list_of_knots.append([0,0])\n",
    "Hasbeen = [(0,0)]"
   ]
  },
  {
   "cell_type": "code",
   "execution_count": null,
   "metadata": {},
   "outputs": [],
   "source": [
    "for line in data:\n",
    "    move_head(line[0],int(line[1]))\n",
    "print(\"Part 2: \", len(Counter(Hasbeen).keys()))"
   ]
  }
 ],
 "metadata": {
  "kernelspec": {
   "display_name": "Python 3",
   "language": "python",
   "name": "python3"
  },
  "language_info": {
   "codemirror_mode": {
    "name": "ipython",
    "version": 3
   },
   "file_extension": ".py",
   "mimetype": "text/x-python",
   "name": "python",
   "nbconvert_exporter": "python",
   "pygments_lexer": "ipython3",
   "version": "3.9.2"
  },
  "orig_nbformat": 4
 },
 "nbformat": 4,
 "nbformat_minor": 2
}

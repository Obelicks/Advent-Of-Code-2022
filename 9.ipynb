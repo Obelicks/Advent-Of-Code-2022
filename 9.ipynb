{
 "cells": [
  {
   "cell_type": "code",
   "execution_count": null,
   "metadata": {},
   "outputs": [],
   "source": [
    "from collections import Counter\n",
    "import math"
   ]
  },
  {
   "cell_type": "code",
   "execution_count": null,
   "metadata": {},
   "outputs": [],
   "source": [
    "with open(\"data/9.txt\") as file:\n",
    "      data = [row.strip().split() for row in file]\n",
    "print(data)"
   ]
  },
  {
   "cell_type": "code",
   "execution_count": null,
   "metadata": {},
   "outputs": [],
   "source": [
    "#TODO   Simulate the rope and its tail. \n",
    "#       Append all the tails positions "
   ]
  },
  {
   "cell_type": "code",
   "execution_count": null,
   "metadata": {},
   "outputs": [],
   "source": [
    "Head = [0,0]\n",
    "Tail = [0,0]\n",
    "Hasbeen = [(0,0)]\n"
   ]
  },
  {
   "cell_type": "code",
   "execution_count": null,
   "metadata": {},
   "outputs": [],
   "source": [
    "def reset():\n",
    "    Head = [0,0]\n",
    "    Tail = [0,0]\n",
    "    Hasbeen = [(0,0)]"
   ]
  },
  {
   "cell_type": "code",
   "execution_count": null,
   "metadata": {},
   "outputs": [],
   "source": [
    "def log_pos(item):\n",
    "    Hasbeen.append((item[0],item[1]))"
   ]
  },
  {
   "cell_type": "code",
   "execution_count": null,
   "metadata": {},
   "outputs": [],
   "source": [
    "def updateTail():\n",
    "    #There definitly is a smarter way to do this. \n",
    "    if math.sqrt((Head[0] - Tail[0])**2 + (Head[1] - Tail[1])**2) == 2.0:\n",
    "        #Vertical\n",
    "        if Head[0] == Tail[0]:\n",
    "            if Head[1] > Tail[1]:\n",
    "                Tail[1] += 1\n",
    "            else:\n",
    "                Tail[1] -=1\n",
    "        #Horizontal\n",
    "        if Head[1] == Tail[1]:\n",
    "            if Head[0] > Tail[0]:\n",
    "                Tail[0] += 1\n",
    "            else:\n",
    "                Tail[0] -=1\n",
    "    elif math.sqrt((Head[0] - Tail[0])**2+ (Head[1] - Tail[1])**2) > 2.0: \n",
    "        #Diagonal Cases\n",
    "        if (Head[0] > Tail[0]):\n",
    "            Tail[0] += 1\n",
    "            if (Head[1] > Tail[1]):\n",
    "                Tail[1] += 1\n",
    "            else:            \n",
    "              Tail[1] -= 1  \n",
    "        else: \n",
    "            Tail[0] -= 1\n",
    "            if (Head[1] > Tail[1]):\n",
    "                Tail[1] += 1\n",
    "            else:            \n",
    "                Tail[1] -= 1  \n",
    "        \n",
    "    #print(Tail)\n",
    "    log_pos(Tail)\n",
    "    return "
   ]
  },
  {
   "cell_type": "code",
   "execution_count": null,
   "metadata": {},
   "outputs": [],
   "source": [
    "def move(command, unit):\n",
    "    if command == \"U\":\n",
    "        for i in range(unit):\n",
    "            Head[1] += 1\n",
    "            updateTail()\n",
    "    elif command == \"L\":\n",
    "        for i in range(unit):\n",
    "            Head[0] -= 1\n",
    "            updateTail()\n",
    "    elif command == \"R\":\n",
    "        for i in range(unit):\n",
    "            Head[0] += 1\n",
    "            updateTail()\n",
    "    elif command == \"D\":\n",
    "        for i in range(unit):\n",
    "            Head[1] -= 1\n",
    "            updateTail() "
   ]
  },
  {
   "cell_type": "code",
   "execution_count": null,
   "metadata": {},
   "outputs": [],
   "source": [
    "def debugger():\n",
    "    print(\"Head:\",Head)\n",
    "    print(\"Tail:\",Tail)\n",
    "    print(\"HasBeen:\", Hasbeen)"
   ]
  },
  {
   "cell_type": "code",
   "execution_count": null,
   "metadata": {},
   "outputs": [],
   "source": [
    "reset()"
   ]
  },
  {
   "cell_type": "code",
   "execution_count": null,
   "metadata": {},
   "outputs": [],
   "source": [
    "print(math.sqrt((Head[0] - Tail[0])**2)+ ((Head[1] - Tail[1])**2))"
   ]
  },
  {
   "cell_type": "code",
   "execution_count": null,
   "metadata": {},
   "outputs": [],
   "source": [
    "for line in data:\n",
    "    move(line[0],int(line[1]))"
   ]
  },
  {
   "cell_type": "code",
   "execution_count": null,
   "metadata": {},
   "outputs": [],
   "source": [
    "print(\"Part 1: \", len(Counter(Hasbeen).keys()))\n"
   ]
  }
 ],
 "metadata": {
  "kernelspec": {
   "display_name": "Python 3",
   "language": "python",
   "name": "python3"
  },
  "language_info": {
   "codemirror_mode": {
    "name": "ipython",
    "version": 3
   },
   "file_extension": ".py",
   "mimetype": "text/x-python",
   "name": "python",
   "nbconvert_exporter": "python",
   "pygments_lexer": "ipython3",
   "version": "3.9.2"
  },
  "orig_nbformat": 4
 },
 "nbformat": 4,
 "nbformat_minor": 2
}

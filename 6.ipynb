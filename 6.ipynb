{
 "cells": [
  {
   "cell_type": "code",
   "execution_count": null,
   "metadata": {},
   "outputs": [],
   "source": [
    "with open(\"data/6.txt\") as file:\n",
    "      data = file.read()\n",
    "#test = \"mjqjpqmgbljsphdztnvjfqwrcgsmlb\""
   ]
  },
  {
   "cell_type": "code",
   "execution_count": null,
   "metadata": {},
   "outputs": [],
   "source": [
    "print(data)"
   ]
  },
  {
   "cell_type": "code",
   "execution_count": null,
   "metadata": {},
   "outputs": [],
   "source": [
    "def addto4(x,list):\n",
    "      if (len(list) == 4):\n",
    "        list.pop(0)\n",
    "      list.append(x)\n",
    "\n",
    "def addto14(x,list):\n",
    "      if (len(list) == 14):\n",
    "        list.pop(0)\n",
    "      list.append(x)"
   ]
  },
  {
   "cell_type": "code",
   "execution_count": null,
   "metadata": {},
   "outputs": [],
   "source": [
    "last4 = []\n",
    "for i in range(len(data)):\n",
    "      addto4(data[i],last4)\n",
    "      #need to have the list filled up before we do duplicate checks\n",
    "      if (i > 2):\n",
    "            nodobules = 0\n",
    "            for j in last4:\n",
    "                  if last4.count(j) > 1:\n",
    "                        nodobules += 1\n",
    "            if nodobules ==0:\n",
    "                  print(\"index: \",i+1, \"Packet: \",last4)\n",
    "                  #print(last4)            "
   ]
  },
  {
   "cell_type": "code",
   "execution_count": null,
   "metadata": {},
   "outputs": [],
   "source": [
    "last14 = []\n",
    "for i in range(len(data)):\n",
    "      addto14(data[i],last14)\n",
    "      #need to have the list filled up before we do duplicate checks\n",
    "      if (i > 12):\n",
    "            nodobules = 0\n",
    "            for j in last14:\n",
    "                  if last14.count(j) > 1:\n",
    "                        nodobules += 1\n",
    "            if nodobules ==0:\n",
    "                  print(\"index: \",i+1, \"Packet: \",last14)\n",
    "                  #print(last4)     "
   ]
  }
 ],
 "metadata": {
  "kernelspec": {
   "display_name": "Python 3",
   "language": "python",
   "name": "python3"
  },
  "language_info": {
   "codemirror_mode": {
    "name": "ipython",
    "version": 3
   },
   "file_extension": ".py",
   "mimetype": "text/x-python",
   "name": "python",
   "nbconvert_exporter": "python",
   "pygments_lexer": "ipython3",
   "version": "3.10.7"
  },
  "orig_nbformat": 4
 },
 "nbformat": 4,
 "nbformat_minor": 2
}

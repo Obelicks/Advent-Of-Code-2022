{
 "cells": [
  {
   "cell_type": "code",
   "execution_count": null,
   "metadata": {},
   "outputs": [],
   "source": [
    "# addx takes 2 cycles \n",
    "# noop does nothing but takes a cycle\n",
    "addx = 2\n",
    "noop = 1\n",
    "stop = 20 \n",
    "duration = 40\n",
    "\n"
   ]
  },
  {
   "cell_type": "code",
   "execution_count": null,
   "metadata": {},
   "outputs": [],
   "source": [
    "with open(\"data/10.txt\") as file:\n",
    "    data = [row.strip().split() for row in file]\n",
    "\n",
    "for i in data: \n",
    "    if len(i) > 1:\n",
    "        i[1] = int(i[1])"
   ]
  },
  {
   "cell_type": "code",
   "execution_count": null,
   "metadata": {},
   "outputs": [],
   "source": [
    "test = data.copy()\n",
    "#print(test)\n",
    "instruction = [\"\", 0]\n",
    "x = [0,1]\n",
    "\n",
    "for cycle in range(1,221):\n",
    "    #print(instruction)\n",
    "    if instruction[0] == \"nextadd\":\n",
    "        x.append(x[-1] + instruction[-1])\n",
    "        instruction = [\"\", 0]\n",
    "        continue\n",
    "\n",
    "    if instruction[0] == \"\":\n",
    "        instruction = test.pop(0)\n",
    "        #print(instruction)\n",
    "    \n",
    "    if instruction[0] == \"addx\": \n",
    "        instruction[0] = \"nextadd\"\n",
    "\n",
    "    else: \n",
    "        instruction = [\"\",0]       \n",
    "\n",
    "    x.append(x[-1])\n",
    "\n",
    "#print(x)\n",
    "\n",
    "#print(x[20],x[60],x[100],x[140],x[180],x[220], x[20]+x[60]+x[100]+x[140]+x[180]+x[220]) "
   ]
  },
  {
   "cell_type": "code",
   "execution_count": null,
   "metadata": {},
   "outputs": [],
   "source": [
    "sum_signal = 0\n",
    "for i in [20,60,100,140,180,220]:\n",
    "    print(i, \"times\", x[i], \":\", i * x[i])\n",
    "    sum_signal += i * x[i]\n",
    "\n",
    "print(\"Part 1:\", sum_signal)"
   ]
  }
 ],
 "metadata": {
  "kernelspec": {
   "display_name": "Python 3",
   "language": "python",
   "name": "python3"
  },
  "language_info": {
   "codemirror_mode": {
    "name": "ipython",
    "version": 3
   },
   "file_extension": ".py",
   "mimetype": "text/x-python",
   "name": "python",
   "nbconvert_exporter": "python",
   "pygments_lexer": "ipython3",
   "version": "3.9.2"
  },
  "orig_nbformat": 4
 },
 "nbformat": 4,
 "nbformat_minor": 2
}

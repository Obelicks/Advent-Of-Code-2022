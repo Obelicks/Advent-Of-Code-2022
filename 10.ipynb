{
 "cells": [
  {
   "cell_type": "code",
   "execution_count": null,
   "metadata": {},
   "outputs": [],
   "source": [
    "with open(\"data/10.txt\") as file:\n",
    "    data = [row.strip().split() for row in file]\n",
    "\n",
    "for i in data: \n",
    "    if len(i) > 1:\n",
    "        i[1] = int(i[1])"
   ]
  },
  {
   "cell_type": "code",
   "execution_count": null,
   "metadata": {},
   "outputs": [],
   "source": [
    "def render(pos,cycle):\n",
    "    if ((cycle-1) % 40) in [pos-1,pos,pos+1]:\n",
    "        buffer.append(\"#\")   \n",
    "    else:\n",
    "        buffer.append(\".\")\n",
    "    if cycle in [40,80,120,160,200,240]:\n",
    "        buffer.append(\"\\n\")"
   ]
  },
  {
   "cell_type": "code",
   "execution_count": null,
   "metadata": {},
   "outputs": [],
   "source": [
    "test = data.copy()\n",
    "instruction = [\"\", 0]\n",
    "x = [0,1]\n",
    "buffer = []\n",
    "\n",
    "for cycle in range(1,241):\n",
    "    render(x[-1],cycle)\n",
    "\n",
    "    if instruction[0] == \"nextadd\":\n",
    "        x.append(x[-1] + instruction[-1])\n",
    "        instruction = [\"\", 0]\n",
    "        continue\n",
    "\n",
    "    if instruction[0] == \"\":\n",
    "        instruction = test.pop(0)\n",
    "    \n",
    "    if instruction[0] == \"addx\": \n",
    "        instruction[0] = \"nextadd\"\n",
    "\n",
    "    else: \n",
    "        instruction = [\"\",0]       \n",
    "\n",
    "    x.append(x[-1])\n",
    "\n",
    "\n"
   ]
  },
  {
   "cell_type": "code",
   "execution_count": null,
   "metadata": {},
   "outputs": [],
   "source": [
    "sum_signal = 0\n",
    "for i in [20,60,100,140,180,220]:\n",
    "    print(i, \"times\", x[i], \":\", i * x[i])\n",
    "    sum_signal += i * x[i]\n",
    "\n",
    "print(\"Part 1:\", sum_signal)\n",
    "print(\"Part 2:\")\n",
    "print(''.join(buffer))"
   ]
  }
 ],
 "metadata": {
  "kernelspec": {
   "display_name": "Python 3",
   "language": "python",
   "name": "python3"
  },
  "language_info": {
   "codemirror_mode": {
    "name": "ipython",
    "version": 3
   },
   "file_extension": ".py",
   "mimetype": "text/x-python",
   "name": "python",
   "nbconvert_exporter": "python",
   "pygments_lexer": "ipython3",
   "version": "3.9.2"
  },
  "orig_nbformat": 4
 },
 "nbformat": 4,
 "nbformat_minor": 2
}

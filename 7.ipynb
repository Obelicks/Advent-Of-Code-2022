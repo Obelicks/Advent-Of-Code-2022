{
 "cells": [
  {
   "cell_type": "code",
   "execution_count": null,
   "metadata": {},
   "outputs": [],
   "source": [
    "#Idea is to create an N-tree from the input data. After this do a recursive depth first search of the\n",
    "#tree to find the leafs size and add them up to the very top \n",
    "class Node(object):\n",
    "      def __init__(self,name,parent):\n",
    "            self.name = name\n",
    "            self.parent = parent\n",
    "            #-1 denodes that we are in a dir that doesnt have a size of its own\n",
    "            self.size = -1\n",
    "            self.children = []\n",
    "\n",
    "      def print_name(self):\n",
    "            print(self.name)\n",
    "\n",
    "      def is_dir(self):\n",
    "            if (len(self.children) > 0):\n",
    "                  return True\n",
    "            else:\n",
    "                  return False\n",
    "            \n",
    "      def set_size(self,n):\n",
    "            if n >= 0:\n",
    "                  #When we reach a file and not a directory we need to assign it a \n",
    "                  #size that isnt -1 \n",
    "                  self.size = n\n",
    "            else:\n",
    "                  print(\"Error size has to be a positive number\")\n",
    "\n",
    "      def add_child(self, object):\n",
    "            if object.name not in [i.name for i in self.children]:\n",
    "                  self.children.append(object)\n",
    "            \n",
    "      def calc_size(self):\n",
    "            i = 0\n",
    "            for j in self.children:\n",
    "                  if j.size == -1:\n",
    "                        #This is in case we have a dir inside of the Node we are trying to calculate the size of\n",
    "                        #Before we can now the size of a parent we need to know the size of all its children first\n",
    "                        j.calc_size()\n",
    "                  i += j.size\n",
    "            self.size = i\n",
    "\n",
    "      def big_size(self, parameter):\n",
    "            t_size = 0\n",
    "            if (self.is_dir() and self.size < parameter):\n",
    "                  t_size += self.size\n",
    "            for i in self.children:\n",
    "                  t_size += i.big_size(parameter)\n",
    "            return t_size\n",
    "\n",
    "      def print_children(self,buff):\n",
    "            buff = buff\n",
    "            print(buff,self.name,\" size: \", self.size)\n",
    "            if(len(self.children) > 0):\n",
    "                  print(buff, self.name,\":\")\n",
    "                  buff = buff + \"   \"\n",
    "                  for j in self.children:\n",
    "                        j.print_children(buff)\n",
    "                  buff = buff[:-3]\n",
    "      def print_children_dir(self,target_size,lowest):\n",
    "            if self.is_dir():\n",
    "                  if self.size > target_size:\n",
    "                        if self.size < lowest:\n",
    "                              lowest = self.size      \n",
    "                        if(len(self.children) > 0):\n",
    "                              for j in self.children:\n",
    "                                    lowest = j.print_children_dir(target_size,lowest)\n",
    "            return lowest\n"
   ]
  },
  {
   "cell_type": "code",
   "execution_count": null,
   "metadata": {},
   "outputs": [],
   "source": [
    "#Root is its own parent so .. on root is still root\n",
    "rod = Node(\"rod\",None)\n",
    "\n",
    "child = Node(\"child\", rod)\n",
    "childchild = Node(\"childchild\",child)\n",
    "childchild.set_size(20)\n",
    "rod.add_child(child)\n",
    "rod.add_child(child)\n",
    "child.add_child(childchild)\n",
    "rod.calc_size()\n",
    "rod.print_children(\"\")\n"
   ]
  },
  {
   "cell_type": "code",
   "execution_count": null,
   "metadata": {},
   "outputs": [],
   "source": [
    "with open(\"data/7.txt\") as file:\n",
    "      data = [i for i in file.read().strip().split('\\n')]\n",
    "print(data)"
   ]
  },
  {
   "cell_type": "code",
   "execution_count": null,
   "metadata": {},
   "outputs": [],
   "source": [
    "def scan(data):\n",
    "    current = Node\n",
    "    for i in data:\n",
    "        line = i.split()\n",
    "        if line[0] == \"$\":\n",
    "            if line[1] == \"cd\":\n",
    "                if line [2] == \"/\":\n",
    "                    rod = Node(line[2],current)\n",
    "                    current = rod\n",
    "                else:\n",
    "                    if line[2] == \"..\":\n",
    "                        #print(current.name)\n",
    "                        current = current.parent\n",
    "                    else: \n",
    "                        for i in current.children:\n",
    "                            if i.name == line[2]:\n",
    "                                current = i\n",
    "        elif line[0] == \"dir\":\n",
    "            #¤Node(line[1],current)\n",
    "            current.add_child(Node(line[1],current))\n",
    "        else: \n",
    "            #print(line)\n",
    "            temp = Node(line[1],current)\n",
    "            temp.set_size(int(line[0]))\n",
    "            current.add_child(temp)\n",
    "    return rod\n",
    "\n",
    "rrod =scan(data)\n",
    "rrod.calc_size()\n",
    "#rrod.print_children(\"\")"
   ]
  },
  {
   "cell_type": "code",
   "execution_count": null,
   "metadata": {},
   "outputs": [],
   "source": [
    "rrod.big_size(100000)"
   ]
  },
  {
   "cell_type": "code",
   "execution_count": null,
   "metadata": {},
   "outputs": [],
   "source": [
    "with open(\"data/7.txt\") as file:\n",
    "      data = [i for i in file.read().strip().split('\\n')]\n",
    "print(data)"
   ]
  },
  {
   "cell_type": "code",
   "execution_count": null,
   "metadata": {},
   "outputs": [],
   "source": [
    "rrod =scan(data)\n",
    "rrod.calc_size()\n",
    "#rrod.print_children(\"\")"
   ]
  },
  {
   "cell_type": "code",
   "execution_count": null,
   "metadata": {},
   "outputs": [],
   "source": [
    "target_size =30000000-(70000000-rrod.size)\n",
    "print(target_size)\n"
   ]
  },
  {
   "cell_type": "code",
   "execution_count": null,
   "metadata": {},
   "outputs": [],
   "source": [
    "rrod.print_children_dir(target_size,rrod.size)\n",
    "#print(rrod.scan_for_target(target_size,rrod).size)\n"
   ]
  }
 ],
 "metadata": {
  "kernelspec": {
   "display_name": "Python 3",
   "language": "python",
   "name": "python3"
  },
  "language_info": {
   "codemirror_mode": {
    "name": "ipython",
    "version": 3
   },
   "file_extension": ".py",
   "mimetype": "text/x-python",
   "name": "python",
   "nbconvert_exporter": "python",
   "pygments_lexer": "ipython3",
   "version": "3.9.2"
  },
  "orig_nbformat": 4
 },
 "nbformat": 4,
 "nbformat_minor": 2
}

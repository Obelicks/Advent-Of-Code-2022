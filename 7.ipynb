{
 "cells": [
  {
   "cell_type": "code",
   "execution_count": null,
   "metadata": {},
   "outputs": [],
   "source": [
    "#Idea is to create an N-tree from the input data. After this do a recursive depth first search of the\n",
    "#tree to find the leafs size and add them up to the very top \n",
    "class Node(object):\n",
    "      def __init__(self,name,size):\n",
    "            self.name = name\n",
    "            self.size = 0\n",
    "            self.children = []\n",
    "      def add_child(self, object):\n",
    "            self.children.append(object)\n",
    "      def calc_size(self):\n",
    "            i = 0\n",
    "            for j in self.children:\n",
    "                  i += j.size\n",
    "            self.size = i\n",
    "\n"
   ]
  }
 ],
 "metadata": {
  "language_info": {
   "name": "python"
  },
  "orig_nbformat": 4
 },
 "nbformat": 4,
 "nbformat_minor": 2
}

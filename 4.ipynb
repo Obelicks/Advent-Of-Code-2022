{
 "cells": [
  {
   "cell_type": "code",
   "execution_count": null,
   "metadata": {},
   "outputs": [],
   "source": [
    "#I started using .ipynb notebooks instead. \n",
    "#It help keeping things organized and to see the result of the \n",
    "#formatting i do\n",
    "with open(\"data/4.txt\") as file:\n",
    "      data = [i for i in file.read().strip().split('\\n')]"
   ]
  },
  {
   "cell_type": "code",
   "execution_count": null,
   "metadata": {},
   "outputs": [],
   "source": [
    "format_data = []\n",
    "for i in data:\n",
    "    format_i = []\n",
    "    t = i.split(\"-\")\n",
    "    s = t[1].split(\",\")\n",
    "    for j in t:\n",
    "        if(\",\" not in j):\n",
    "            format_i.append(j)\n",
    "        else:\n",
    "            for k in s:\n",
    "                format_i.append(k)\n",
    "    format_data.append(format_i)"
   ]
  },
  {
   "cell_type": "code",
   "execution_count": null,
   "metadata": {},
   "outputs": [],
   "source": [
    "counting = 0\n",
    "for i in format_data:\n",
    "    if( ((int(i[0]) <= int(i[2])) and (int(i[1]) >= int(i[3]))) or \n",
    "       ((int(i[2]) <= int(i[0])) and (int(i[3]) >= int(i[1])))):\n",
    "        #print(i)\n",
    "        counting +=1"
   ]
  },
  {
   "cell_type": "code",
   "execution_count": null,
   "metadata": {},
   "outputs": [],
   "source": [
    "print(\"part 1: \", counting)"
   ]
  },
  {
   "cell_type": "code",
   "execution_count": null,
   "metadata": {},
   "outputs": [],
   "source": [
    "def overlap(start_1, end_1, start_2, end_2):\n",
    "    x = 0\n",
    "    list_1 = []\n",
    "    for i in range(start_1, end_1+1):\n",
    "        list_1.append(i)\n",
    "    for j in range(start_2,end_2+1):\n",
    "        if(j in list_1):\n",
    "            x +=1\n",
    "    return x"
   ]
  },
  {
   "cell_type": "code",
   "execution_count": null,
   "metadata": {},
   "outputs": [],
   "source": [
    "count = 0\n",
    "for i in format_data:\n",
    "    t = overlap(int(i[0]),int(i[1]),int(i[2]),int(i[3]))\n",
    "    #I had misread the assingment and made a function that return the amount of overlap\n",
    "    #Where i could have just made it true or false.\n",
    "    if(t > 0):\n",
    "        count += 1 \n",
    "    \n",
    "print(\"part 2: \",count)"
   ]
  }
 ],
 "metadata": {
  "kernelspec": {
   "display_name": "Python 3",
   "language": "python",
   "name": "python3"
  },
  "language_info": {
   "codemirror_mode": {
    "name": "ipython",
    "version": 3
   },
   "file_extension": ".py",
   "mimetype": "text/x-python",
   "name": "python",
   "nbconvert_exporter": "python",
   "pygments_lexer": "ipython3",
   "version": "3.11.3"
  },
  "orig_nbformat": 4
 },
 "nbformat": 4,
 "nbformat_minor": 2
}

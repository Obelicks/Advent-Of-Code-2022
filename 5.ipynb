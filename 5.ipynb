{
 "cells": [
  {
   "cell_type": "code",
   "execution_count": 14,
   "metadata": {},
   "outputs": [],
   "source": [
    "with open(\"data/5.move.txt\") as file:\n",
    "      move = [i for i in file.read().strip().split('\\n')]\n",
    "\n",
    "\n",
    "with open(\"data/5.stack.txt\") as file:\n",
    "      stack = [i for i in file.read().strip().split('\\n')]"
   ]
  },
  {
   "attachments": {},
   "cell_type": "markdown",
   "metadata": {},
   "source": [
    "First we need the stack list properly formattet"
   ]
  },
  {
   "cell_type": "code",
   "execution_count": 15,
   "metadata": {},
   "outputs": [],
   "source": [
    "liste = [[],[],[],[],[],[],[],[],[]]\n",
    "for i in range(len(stack)):\n",
    "    for j in range(len(stack[0])):\n",
    "        if (j % 4 ==1):\n",
    "            liste[i].append(stack[i][j])\n"
   ]
  },
  {
   "cell_type": "code",
   "execution_count": 16,
   "metadata": {},
   "outputs": [
    {
     "name": "stdout",
     "output_type": "stream",
     "text": [
      "[['H', 'L', 'R', 'F', 'B', 'C', 'J', 'M'], ['D', 'C', 'Z'], ['W', 'G', 'N', 'C', 'F', 'J', 'H'], ['B', 'S', 'T', 'M', 'D', 'J', 'P'], ['J', 'R', 'D', 'C', 'N'], ['Z', 'G', 'J', 'P', 'Q', 'D', 'L', 'W'], ['H', 'R', 'F', 'T', 'Z', 'P'], ['G', 'M', 'V', 'L'], ['J', 'R', 'Q', 'F', 'P', 'G', 'B', 'C']]\n"
     ]
    }
   ],
   "source": [
    "list_1 = liste\n",
    "temp = []\n",
    "big_list = [[],[],[],[],[],[],[],[],[]]\n",
    "for j in  range(len(list_1)):\n",
    "    for i in range(len(list_1[0])-1):\n",
    "        temp.append(list_1[i][j])\n",
    "    #print(temp)\n",
    "    temp = [element for element in temp if element != \" \"]\n",
    "    big_list[j] = temp\n",
    "    temp =[]\n",
    "print(big_list)"
   ]
  },
  {
   "cell_type": "code",
   "execution_count": 17,
   "metadata": {},
   "outputs": [],
   "source": [
    "#Now that the stack is formattet to my liking i need a function to move stuff around inside the list\n",
    "def crane9000(num,start,end):\n",
    "    for i in range(num):\n",
    "        temp = big_list[start-1].pop(0)\n",
    "        #big_list[start-1] = big_list[start-1][1:]\n",
    "        #print(\"end: \",big_list[end-1])\n",
    "        big_list[end-1].insert(0, temp)\n",
    "def crane9001(num,start,end):\n",
    "    temp = big_list[start-1][:num]\n",
    "    big_list[start-1]= big_list[start-1][num:]\n",
    "    big_list[end-1]= temp + big_list[end-1]"
   ]
  },
  {
   "cell_type": "code",
   "execution_count": 18,
   "metadata": {},
   "outputs": [
    {
     "name": "stdout",
     "output_type": "stream",
     "text": [
      "[['H', 'L', 'R', 'F', 'B', 'C', 'J', 'M'], ['D', 'C', 'Z'], ['W', 'G', 'N', 'C', 'F', 'J', 'H'], ['B', 'S', 'T', 'M', 'D', 'J', 'P'], ['J', 'R', 'D', 'C', 'N'], ['Z', 'G', 'J', 'P', 'Q', 'D', 'L', 'W'], ['H', 'R', 'F', 'T', 'Z', 'P'], ['G', 'M', 'V', 'L'], ['J', 'R', 'Q', 'F', 'P', 'G', 'B', 'C']]\n",
      "T Q R F C B S J J "
     ]
    }
   ],
   "source": [
    "print(big_list)\n",
    "for i in move:\n",
    "    i = i.split()\n",
    "    crane9001(int(i[1]),int(i[3]),int(i[5]))\n",
    "    #print(i)\n",
    "for i in big_list:\n",
    "    print(i[0],end =\" \")"
   ]
  }
 ],
 "metadata": {
  "kernelspec": {
   "display_name": "Python 3",
   "language": "python",
   "name": "python3"
  },
  "language_info": {
   "codemirror_mode": {
    "name": "ipython",
    "version": 3
   },
   "file_extension": ".py",
   "mimetype": "text/x-python",
   "name": "python",
   "nbconvert_exporter": "python",
   "pygments_lexer": "ipython3",
   "version": "3.11.3"
  },
  "orig_nbformat": 4
 },
 "nbformat": 4,
 "nbformat_minor": 2
}
